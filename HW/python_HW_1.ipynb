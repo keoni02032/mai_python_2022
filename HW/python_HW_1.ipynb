{
  "nbformat": 4,
  "nbformat_minor": 0,
  "metadata": {
    "colab": {
      "provenance": []
    },
    "kernelspec": {
      "name": "python3",
      "display_name": "Python 3"
    },
    "language_info": {
      "name": "python"
    }
  },
  "cells": [
    {
      "cell_type": "code",
      "execution_count": null,
      "metadata": {
        "colab": {
          "base_uri": "https://localhost:8080/"
        },
        "id": "ZBXfS-q4W8S2",
        "outputId": "9c93b07f-0e22-4057-b15d-f302bddf351a"
      },
      "outputs": [
        {
          "output_type": "stream",
          "name": "stdout",
          "text": [
            "Симонов Сергей М8о-107М-22\n"
          ]
        }
      ],
      "source": [
        "print('Симонов Сергей М8о-107М-22')\n",
        "\n",
        "drone_list = [\"DJI Mavic 2 Pro\", \"DJI Mavic 2 Zoom\", \"DJI Mavic 2 Enterprise Advanced\", \"AUTEL Evo II Pro\", \"DJI Mini 2\", \"Autel Evo Nano\", \"Autel Evo Lite Plus\", \"Parrot Anafi\", \"Dji Inspire 2\", \"DJI Mavic 3\", \"DJI Mavic Air2s\", \"Ryze Tello\", \"Eachine Trashcan\"]\n",
        "\n",
        "drone_weight_list = [903, 900, 920, 980, 249, 249, 600, 540, 1500, 1000, 570, 130, 110]"
      ]
    },
    {
      "cell_type": "code",
      "source": [
        "#в drone по очереди попадает каждый дрон из списка drone_list\n",
        "\n",
        "d = {}\n",
        "\n",
        "for drone in drone_list:\n",
        "  drone = drone.split(' ')\n",
        "  drone[0] = drone[0].capitalize()\n",
        "  if drone[0] == 'Dji':\n",
        "    drone[0] = 'DJI'\n",
        "  print(drone)\n",
        "  tmp = ''\n",
        "  for i in range(1, len(drone)):\n",
        "    tmp += drone[i] + ' '\n",
        "  if drone[0] not in d:\n",
        "    d[drone[0]] = []\n",
        "  d[drone[0]].append(tmp)\n",
        "\n",
        "print(d)"
      ],
      "metadata": {
        "colab": {
          "base_uri": "https://localhost:8080/"
        },
        "id": "8PIy9pjbXZeV",
        "outputId": "12db449b-82e1-4fd5-cb04-84e748eb098b"
      },
      "execution_count": null,
      "outputs": [
        {
          "output_type": "stream",
          "name": "stdout",
          "text": [
            "['DJI', 'Mavic', '2', 'Pro']\n",
            "['DJI', 'Mavic', '2', 'Zoom']\n",
            "['DJI', 'Mavic', '2', 'Enterprise', 'Advanced']\n",
            "['Autel', 'Evo', 'II', 'Pro']\n",
            "['DJI', 'Mini', '2']\n",
            "['Autel', 'Evo', 'Nano']\n",
            "['Autel', 'Evo', 'Lite', 'Plus']\n",
            "['Parrot', 'Anafi']\n",
            "['DJI', 'Inspire', '2']\n",
            "['DJI', 'Mavic', '3']\n",
            "['DJI', 'Mavic', 'Air2s']\n",
            "['Ryze', 'Tello']\n",
            "['Eachine', 'Trashcan']\n",
            "{'DJI': ['Mavic 2 Pro ', 'Mavic 2 Zoom ', 'Mavic 2 Enterprise Advanced ', 'Mini 2 ', 'Inspire 2 ', 'Mavic 3 ', 'Mavic Air2s '], 'Autel': ['Evo II Pro ', 'Evo Nano ', 'Evo Lite Plus '], 'Parrot': ['Anafi '], 'Ryze': ['Tello '], 'Eachine': ['Trashcan ']}\n"
          ]
        }
      ]
    },
    {
      "cell_type": "code",
      "source": [
        "#TODO1\n",
        "#выведите все дроны производителя, название которого введет пользователь через input, и подсчитайте их количество. \n",
        "#учтите, что:\n",
        "#1) DJI и Dji - это один и тот же производитель! такие случаи тоже должны обрабатываться\n",
        "#2) при выводе исправьте название производителя, если допущена ошибка. правильный вариант названия: DJI, Autel\n",
        "\n",
        "print('TODO1')\n",
        "print()\n",
        "\n",
        "inp = input().capitalize()\n",
        "if inp == 'Dji':\n",
        "  print(\"Дроны компании DJI:\\n\")\n",
        "  for i in d['DJI']:\n",
        "    print(i)\n",
        "else:\n",
        "  print(f\"Дроны компании {inp}:\\n\")\n",
        "  for i in d[inp]:\n",
        "    print(i)"
      ],
      "metadata": {
        "colab": {
          "base_uri": "https://localhost:8080/"
        },
        "id": "lxSW8SAuXh2Z",
        "outputId": "8fb3cc36-a358-4f63-d06e-99c2176cfe36"
      },
      "execution_count": null,
      "outputs": [
        {
          "output_type": "stream",
          "name": "stdout",
          "text": [
            "TODO1\n",
            "\n",
            "DJI\n",
            "Дроны компании DJI:\n",
            "\n",
            "Mavic 2 Pro \n",
            "Mavic 2 Zoom \n",
            "Mavic 2 Enterprise Advanced \n",
            "Mini 2 \n",
            "Inspire 2 \n",
            "Mavic 3 \n",
            "Mavic Air2s \n"
          ]
        }
      ]
    },
    {
      "cell_type": "code",
      "source": [
        "#TODO2\n",
        "#подсчитайте количество моделей дронов каждого производителя из списка drone_list. производители: DJI, Autel, Parrot, Ryze, Eachine\n",
        "\n",
        "print('TODO2')\n",
        "print()\n",
        "\n",
        "for dr in d:\n",
        "  print(f'{dr}: {len(d[dr])}')"
      ],
      "metadata": {
        "colab": {
          "base_uri": "https://localhost:8080/"
        },
        "id": "zkj4QVnxXnl3",
        "outputId": "829d7b22-1a2c-4543-b7fb-4ccebe3448c6"
      },
      "execution_count": null,
      "outputs": [
        {
          "output_type": "stream",
          "name": "stdout",
          "text": [
            "TODO2\n",
            "\n",
            "DJI: 7\n",
            "Autel: 3\n",
            "Parrot: 1\n",
            "Ryze: 1\n",
            "Eachine: 1\n"
          ]
        }
      ]
    },
    {
      "cell_type": "code",
      "source": [
        "#TODO3\n",
        "#выведите все дроны из списка, которые нужно регистрировать (масса больше 150 г), и подсчитайте их количество. \n",
        "#сделайте то же самое для всех дронов, которые не нужно регистрировать\n",
        "#для этого вам нужно параллельно обрабатывать два списка: drone_list и drone_weight_list:\n",
        "#как работает zip, мы разберем на лекции про списки. пока что просто пользуйтесь\n",
        "\n",
        "print('TODO3')\n",
        "print()\n",
        "\n",
        "print('Дроны которые нужно регистрировать:')\n",
        "for drone, weight in zip(drone_list,  drone_weight_list):\n",
        "  if weight > 150:\n",
        "    print(drone, weight)\n",
        "\n",
        "print()\n",
        "\n",
        "print('Дроны которые не нужно регистрировать:')\n",
        "for drone, weight in zip(drone_list,  drone_weight_list):\n",
        "  if weight <= 150:\n",
        "    print(drone, weight)"
      ],
      "metadata": {
        "colab": {
          "base_uri": "https://localhost:8080/"
        },
        "id": "VobswdCgXyeF",
        "outputId": "e207b49a-a0ff-4e37-ce52-4fb6f66f5c4f"
      },
      "execution_count": null,
      "outputs": [
        {
          "output_type": "stream",
          "name": "stdout",
          "text": [
            "TODO3\n",
            "\n",
            "Дроны которые нужно регистрировать:\n",
            "DJI Mavic 2 Pro 903\n",
            "DJI Mavic 2 Zoom 900\n",
            "DJI Mavic 2 Enterprise Advanced 920\n",
            "AUTEL Evo II Pro 980\n",
            "DJI Mini 2 249\n",
            "Autel Evo Nano 249\n",
            "Autel Evo Lite Plus 600\n",
            "Parrot Anafi 540\n",
            "Dji Inspire 2 1500\n",
            "DJI Mavic 3 1000\n",
            "DJI Mavic Air2s 570\n",
            "\n",
            "Дроны которые не нужно регистрировать:\n",
            "Ryze Tello 130\n",
            "Eachine Trashcan 110\n"
          ]
        }
      ]
    },
    {
      "cell_type": "code",
      "source": [
        "#TODO4\n",
        "#для каждого дрона из списка выведите, нудно ли согласовывать полет при следующих условиях:\n",
        "#высота 100 м, полет над населенным пунктом, вне закрытых зон, в прямой видимости\n",
        "#помните, что для дронов тяжелее 150 г согласовывать полет над населенным пунктом - обязательно!\n",
        "\n",
        "print('TODO4')\n",
        "print()\n",
        "\n",
        "height = 100\n",
        "\n",
        "closed_area = False\n",
        "vlos = True\n",
        "\n",
        "\n",
        "for drone, weight in zip(drone_list,  drone_weight_list):\n",
        "  if height<= 150 and weight <= 150 and vlos and not closed_area:\n",
        "    print(f'{drone} -- согласование для полета не требуется')\n",
        "  else:\n",
        "    print(f'{drone} -- нужно согласовать полет')"
      ],
      "metadata": {
        "colab": {
          "base_uri": "https://localhost:8080/"
        },
        "id": "ZpHjc8eEX3yP",
        "outputId": "315d27a0-792a-4ae9-b552-073d533bb887"
      },
      "execution_count": null,
      "outputs": [
        {
          "output_type": "stream",
          "name": "stdout",
          "text": [
            "TODO4\n",
            "\n",
            "DJI Mavic 2 Pro -- нужно согласовать полет\n",
            "DJI Mavic 2 Zoom -- нужно согласовать полет\n",
            "DJI Mavic 2 Enterprise Advanced -- нужно согласовать полет\n",
            "AUTEL Evo II Pro -- нужно согласовать полет\n",
            "DJI Mini 2 -- нужно согласовать полет\n",
            "Autel Evo Nano -- нужно согласовать полет\n",
            "Autel Evo Lite Plus -- нужно согласовать полет\n",
            "Parrot Anafi -- нужно согласовать полет\n",
            "Dji Inspire 2 -- нужно согласовать полет\n",
            "DJI Mavic 3 -- нужно согласовать полет\n",
            "DJI Mavic Air2s -- нужно согласовать полет\n",
            "Ryze Tello -- согласование для полета не требуется\n",
            "Eachine Trashcan -- согласование для полета не требуется\n"
          ]
        }
      ]
    },
    {
      "cell_type": "code",
      "source": [
        "#TODO5*\n",
        "#модифицируйте решение задания TODO1:\n",
        "#теперь для введенного пользователем производителя вы должны вывести строку, содержащую перечисление моделей и БЕЗ названия производителя.\n",
        "#например, пользователь ввел \"Autel\". ваша программа должна вывести вот такой результат: \"Evo II Pro, Evo Nano, Evo Lite Plus\". для этого вам понадобится несколько функций работы со строками. решить эту задачу можно несколькими разными способами\n",
        "#производители те же: DJI, Autel, Parrot, Ryze, Eachine\n",
        "\n",
        "\n",
        "print('TODO5')\n",
        "print()\n",
        "\n",
        "inp = input().capitalize()\n",
        "tmp  = ''\n",
        "if inp == 'Dji':\n",
        "  print(\"Дроны компании DJI:\\n\")\n",
        "  for i in d['DJI']:\n",
        "    tmp += i[:len(i) - 1] + ', ' \n",
        "else:\n",
        "  print(f\"Дроны компании {inp}:\\n\")\n",
        "  for i in d[inp]:\n",
        "    # print(i)\n",
        "    tmp += i[:len(i) - 1] + ', '\n",
        "\n",
        "print(tmp[:len(tmp) - 2])"
      ],
      "metadata": {
        "id": "8lnwDoU4X8BW",
        "outputId": "70da08fc-4aa4-4a26-9678-1b8697e56191",
        "colab": {
          "base_uri": "https://localhost:8080/"
        }
      },
      "execution_count": null,
      "outputs": [
        {
          "output_type": "stream",
          "name": "stdout",
          "text": [
            "TODO5\n",
            "\n",
            "DJI\n",
            "Дроны компании DJI:\n",
            "\n",
            "Mavic 2 Pro, Mavic 2 Zoom, Mavic 2 Enterprise Advanced, Mini 2, Inspire 2, Mavic 3, Mavic Air2s\n"
          ]
        }
      ]
    },
    {
      "cell_type": "code",
      "source": [],
      "metadata": {
        "id": "eEOX4G9tX9Ny"
      },
      "execution_count": null,
      "outputs": []
    }
  ]
}