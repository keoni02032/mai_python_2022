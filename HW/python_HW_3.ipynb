{
  "nbformat": 4,
  "nbformat_minor": 0,
  "metadata": {
    "colab": {
      "provenance": []
    },
    "kernelspec": {
      "name": "python3",
      "display_name": "Python 3"
    },
    "language_info": {
      "name": "python"
    }
  },
  "cells": [
    {
      "cell_type": "code",
      "source": [
        "# !git clone https://github.com/Shorstko/mai_python_2022\n",
        "# %cd mai_python_2022/Homework"
      ],
      "metadata": {
        "id": "hFLEvf5POLbT"
      },
      "execution_count": 2,
      "outputs": []
    },
    {
      "cell_type": "code",
      "source": [
        "!mkdir res"
      ],
      "metadata": {
        "id": "_GP6tqwTpRD6"
      },
      "execution_count": 132,
      "outputs": []
    },
    {
      "cell_type": "code",
      "execution_count": 139,
      "metadata": {
        "id": "FS8CdsOoXIAI"
      },
      "outputs": [],
      "source": [
        "# В ЭТОМ ДЗ ВЫ БУДЕТЕ АНАЛИЗИРОВАТЬ ДАННЫЕ ОБ АВИАПРОИСШЕСТВИЯХ С УЧАСТИЕМ МОДЕЛЕЙ ДРОНОВ ИЗ ВАШИХ ИСХОДНЫХ ДАННЫХ В .JSON\n",
        "\n",
        "# =====================================\n",
        "# ЗАДАНИЕ 1: Классы - декораторы\n",
        "# =====================================\n",
        "# TODO 1-1 - Добавить атрибут incidents типа список\n",
        "# Возьмите код из предыдущего ДЗ\n",
        "# Добавьте в класс MultirotorUAV атрибут incidents и внесите туда информацию обо всех найденных происшествиях для этой модели\n",
        "# Не забудьте, что атрибут добавляется при помощи декоратора\n",
        "\n",
        "\n",
        "class Aircraft:\n",
        "    def __init__(self, weight):\n",
        "        self._weight = weight\n",
        "\n",
        "class UAV:\n",
        "    def __init__(self):\n",
        "        self._has_autopilot = True\n",
        "        self.__missions: list([list()])\n",
        "\n",
        "\t# напишите код для декоратора атрибута _missions\n",
        "\t\n",
        "    @property\n",
        "    def get_miss(self):\n",
        "        return self.__missions\n",
        "\n",
        "    @get_miss.setter\n",
        "    def add_miss(self, mission):\n",
        "        self.__missions = mission\n",
        " \n",
        "    # напишите публичный метод count_missions\n",
        "    def count_missions(self):\n",
        "        return len(self.missions)\n",
        "\n",
        "    def get_missions(self):\n",
        "        return self.missions\n",
        "\n",
        "class MultirotorUAV(Aircraft, UAV):\n",
        "    def __init__(self, weight, model, brand):\n",
        "        super().__init__(weight)\n",
        "        UAV.__init__(self)\n",
        "        self.__weight = weight\n",
        "        self.__model = model\n",
        "        self.__brand = brand\n",
        "        self.__incidents:list([str]) = []\n",
        "\n",
        "\t# напишите публичный метод get_info\n",
        "    def get_info(self):\n",
        "        print(f'масса: {self.__weight}, производитель: {self.__brand}, количество миссий: {self.count_missions()}')#\n",
        "\n",
        "\t# напишите публичный метод get_model\n",
        "    def get_model(self):\n",
        "        return self.__model\n",
        "\n",
        "    # напишите код декоратора для атрибута incidents. Не забудьте сначала добавить приватный атрибут в класс\n",
        "    @property\n",
        "    def incidents(self):\n",
        "        return self.__incidents\n",
        "    # напишите публичный метод add_incident, который добавляет инцидент в список инцидентов для данной модели дрона\n",
        "    @incidents.setter\n",
        "    def add_incident(self, incident):\n",
        "        self.__incidents.append(incident)\n",
        "\n",
        "\t# напишите публичный метод save_data, который сохраняет информацию о дроне в файл json\n",
        "    def save_data(self):\n",
        "        d = {}\n",
        "        d['model'] = self.__model\n",
        "        d['weight'] = self.__weight\n",
        "        d['brand'] = self.__brand\n",
        "        d['missions'] = self.get_missions()\n",
        "        d['incidents'] = self.__incidents\n",
        "        with open(f\"/content/mai_python_2022/Homework/res/{self.__class__.__name__}_{self.__model}.json\", \"w\") as f:\n",
        "            json.dump(d, f, ensure_ascii=False, indent=2)\n",
        "# ВАШ КОД из предыдущего ДЗ, необходимый для решения этого ДЗ (чтение данных о пилотах, сбор информации о дронах и пр.):\n",
        "\n",
        "import json\n",
        "from pprint import pprint\n",
        "\n",
        "with open(\"/content/mai_python_2022/Homework/pilot_path.json\") as f:\n",
        "\tjson_data = json.load(f)\n",
        " \n",
        "\n",
        "drone_catalog = {\n",
        "\t\"DJI Mavic 2 Pro\": {\"weight\":903, \"brand\":\"DJI\"},\n",
        "\t\"DJI Mavic 2 Zoom\": {\"weight\":900, \"brand\":\"DJI\"},\n",
        "\t\"DJI Mavic 2 Enterprise Advanced\": {\"weight\":920, \"brand\":\"DJI\"},\n",
        "\t\"DJI Inspire 2\": {\"weight\":1500, \"brand\":\"DJI\"},\n",
        "\t\"DJI Mavic 3\": {\"weight\":1000, \"brand\":\"DJI\"}\n",
        "}\n",
        "\n",
        "result = list()\n",
        "\n",
        "for i, dron in enumerate(drone_catalog):\n",
        "\tresult.append(MultirotorUAV(drone_catalog[dron]['weight'], dron, drone_catalog[dron]['brand']))\n",
        "\ttmp = list()\n",
        "\tfor pilot in json_data:\n",
        "\t\tfor j in json_data[pilot]['missions']:\n",
        "\t\t\tif j['drone'] == dron:\n",
        "\t\t\t\ttmp.append(j['mission'])\n",
        "\tresult[i].missions=tmp"
      ]
    },
    {
      "cell_type": "code",
      "source": [
        "# =====================================\n",
        "# ЗАДАНИЕ 2: Файлы - CSV\n",
        "# =====================================\n",
        "# TODO 2-1 - Загрузите информацию об авиапроисшествиях из файла csv\n",
        "# Проверьте по моделям (названия моделей возьмите из экземпляров класса MultirotorUAV), какие из них участвовали в авиапроисшествиях\n",
        "\n",
        "# ВАШ КОД чтения данных из файла:\n",
        "\n",
        "read_csv = list()\n",
        "\n",
        "with open(\"/content/mai_python_2022/Homework/faa_incidents.csv\") as f:\n",
        "    lines = f.readlines()\n",
        "    print(lines[0])\n",
        "    lines[0] = lines[0].split('\\n')[0].split(',')\n",
        "    for i in range(1, len(lines)):\n",
        "        line = lines[i]\n",
        "        read_csv.append(line.split('\"'))"
      ],
      "metadata": {
        "colab": {
          "base_uri": "https://localhost:8080/"
        },
        "id": "TjzuyuiQPGY5",
        "outputId": "c7f3380e-e343-4c73-f065-ed238edb24f3"
      },
      "execution_count": 140,
      "outputs": [
        {
          "output_type": "stream",
          "name": "stdout",
          "text": [
            "Data Source,Report Number,Local Date,City,State,Airport Name,Event Type,Mid Air Collision,Aircraft Damage,Registration Nbr,Total Aboard,Fatalities,Injuries,Details\n",
            "\n"
          ]
        }
      ]
    },
    {
      "cell_type": "code",
      "source": [
        "# =====================================\n",
        "# ЗАДАНИЕ 3: Классы\n",
        "# =====================================\n",
        "# TODO 3-1 - Для каждой модели дрона добавьте в экземпляр класса информацию об авиапроисшествиях, в которых участвовала эта модель\n",
        "# Информацию сохраните в атрибут incidents (используйте декораторы)\n",
        "# Подсказка: вот так вы получаете названия модели для каждого экземпляра класса MultirotorUAV\n",
        "# Экземпляры все так же находятся в списке (например, drones_cls_list)\n",
        "\n",
        "for j, drone_cls in enumerate(result):\n",
        "    drone = drone_cls.get_model()\n",
        "    drone = drone[4:].upper()\n",
        "    for iter in read_csv:\n",
        "        if len(iter) > 1:\n",
        "            if drone in iter[1].upper():\n",
        "                result[j].incidents.append(iter[1])\n",
        "                print(drone)\n",
        "        else:\n",
        "            if drone in iter[0].split(',')[13].upper():\n",
        "                result[j].incidents.append(iter[0].split(',')[13])\n",
        "                print(drone)"
      ],
      "metadata": {
        "colab": {
          "base_uri": "https://localhost:8080/"
        },
        "id": "-VE_W16NPJNH",
        "outputId": "259f2c93-78eb-4591-df8c-40e26892291c"
      },
      "execution_count": 141,
      "outputs": [
        {
          "output_type": "stream",
          "name": "stdout",
          "text": [
            "MAVIC 2 ZOOM\n",
            "INSPIRE 2\n",
            "INSPIRE 2\n",
            "INSPIRE 2\n"
          ]
        }
      ]
    },
    {
      "cell_type": "code",
      "source": [
        "# TODO 3-2 - Добавьте в класс MultirotorUAV публичный метод save_data, который сохраняет статистику по дрону в файл\n",
        "# Внимание! Метод save_data не принимает параметры. Название файла сформируйте как: название класса + название модели + расширение .json\n",
        "# например: \"MultirotorUAV_DJI Mavic 2 Pro.json\"\n",
        "# Подсказка: название класса вы можете получить вот так: self.__class__.__name__\n",
        "# используйте ключи: \"model\", \"weight\", \"brand\", \"missions\", \"incidents\"\n",
        "# например: {\"model\":\"DJI Inspire 2\", \"weight\": 1500, \"info\": \"...\", \"manufacturer\": \"DJI\", \"missions\": [], \"incidents\": []}\n",
        "\n",
        "# ВАШ КОД - допишите код в объявлении класса"
      ],
      "metadata": {
        "id": "LjpXBeVAPMEi"
      },
      "execution_count": 142,
      "outputs": []
    },
    {
      "cell_type": "code",
      "source": [
        "# =====================================\n",
        "# ЗАДАНИЕ 4: Регулярные выражения\n",
        "# =====================================\n",
        "# TODO 4-1 - Выведите на экран собранную информацию по инцидентам по каждому дрону в таком виде:\n",
        "# модель: инцидентов - количество\n",
        "# 1 - краткий текст инцидента*\n",
        "# полный текст инцидента\n",
        "# * - краткий текст инцидента получайте следующим образом: в исходном тексте инцидента найдите модель, например, INSPIRE 2,\n",
        "# и выведите все предложения, в которых встречается упоминание этой модели\n",
        "# Подсказка 1: Полностью готовый код есть в лекции про регулярные выражения (пример про перелетных птиц).\n",
        "# Ваши изменения: а) вставить вместо \"зим\" название модели дрона, б) поменять язык поиска на английский\n",
        "# Подсказка 2: не забывайте использовать флаг re.I для игнорирования регистра символов\n",
        "# Подсказка 3: перед тем, как искать, уберите из названия модели название производителя\n",
        "# Подсказка 4: лучше не используйте re.compile. Для этого случая работает не очень\n",
        "\n",
        "# РЕЗУЛЬТАТ:\n",
        "# mavic 2 enterprise advanced: инцидентов - 0\n",
        "# mavic 2 pro: инцидентов - 0\n",
        "# mavic 3: инцидентов - 0\n",
        "# mavic 2 zoom: инцидентов - 1\n",
        "# 1 - ON JULY 15, 2020 AT 1050 EDT, A DJI, MAVIC 2 ZOOM L1Z UAS, SERIAL # 0M6TG85R0A04ZP, UA FA REGISTRATION # FA3RE7RNWP, REGISTERED TO ^PRIVACY DATA OMITTED^ (PIC), REMOTE PILOT CERTIFICATE ^PRIVACY DATA OMITTED^, LOST CONTROLLED FLIGHT IN THE AREA OF ^PRIVACY DATA OMITTED^ AND HIT A BLACK NISSAN PICKUP TRUCK BEARING ^PRIVACY DATA OMITTED^ TRAVELING ALONG TAMIAMI TRAIL IN NORTH PORT CAUSING PROPERTY DAMAGE.\n",
        "# ON JULY 15, 2020 AT 1050 EDT, A DJI, MAVIC 2 ZOOM L1Z UAS, SERIAL # 0M6TG85R0A04ZP, UA FA REGISTRATION # FA3RE7RNWP, REGISTERED TO ^PRIVACY DATA OMITTED^ (PIC), REMOTE PILOT CERTIFICATE ^PRIVACY DATA OMITTED^, LOST CONTROLLED FLIGHT IN THE AREA OF ^PRIVACY DATA OMITTED^ AND HIT A BLACK NISSAN PICKUP TRUCK BEARING ^PRIVACY DATA OMITTED^ TRAVELING ALONG TAMIAMI TRAIL IN NORTH PORT CAUSING PROPERTY DAMAGE. THE UAS WAS FLOWN ON A RECREATIONAL FLIGHT OVER A CONSTRUCTION SITE AT ^PRIVACY DATA OMITTED^, USING AN AUTOMATIC FREQUENCY SELECTION FEATURE THAT RANGED FROM 2.400 - 2.4835 GHZ; 5.725 - 5.850 GHZ. WEATHER CONDITIONS WERE CLEAR AND ARE NOT CONSIDERED A FACTOR. THE UAS WAS DESTROYED AND THE PROPERTY DAMAGE WAS GREATER THAN $500. THERE WERE NO PERSONAL INJURIES. THE FLIGHT ORIGINATED FROM ^PRIVACY DATA OMITTED^, EARLIER THAT DAY. WHILE THIS INCIDENT MEETS FAA UAS ACCIDENT CRITERIA, IT DOES NOT MEET THE NTSB?S UAS ACCIDENT CRITERIA. THE NTSB WOULD NOT ISSUE A NTSB ACCIDENT NUMBER FOR THIS EVENT. THEREFORE, THIS EVENT WILL BE CLASSIFIED AN INCIDENT.\n",
        "# inspire 2: инцидентов - 3\n",
        "# 1 - RPIC WAS OPERATING A DJI INSPIRE 2 WITH A CAMERA/GIMBLE COMBINATION SET UP. DJI INSPIRE 2 (SN 09YDDCQL040384) CURRENT FAA SUAS REGISTRATION NUMBER FA343FTPWM.\n",
        "# ON MAY 25, 2020, MOJAVE AIR AND SPACE PORT (KMHV) AIR TRAFFIC CONTROL TOWER (ATCT) PROVIDED VERBAL AUTHORIZATION TO ^PRIVACY DATA OMITTED^ TO PERFORM SUAS OPERATIONS IN KMHV CLASS D AIRSPACE. WIND SPEED WAS 7 KNOTS WITH GUSTS AT 14 KNOTS. WIND DIRECTION 060. ^PRIVACY DATA OMITTED^. AND KMHV HAVE A LETTER OF AGREEMENT (LOA) EFFECTIVE JANUARY 28, 2020 FOR SUAS OPERATIONS IN KMHV CLASS D AIRSPACE. ^PRIVACY DATA OMITTED^ HOLDS A CURRENT CERTIFICATE OF WAIVER OR AUTHORIZATION EFFECTIVE FROM JANUARY 31, 2019 TO SEPTEMBER 30, 2020 TO PERFORM SMALL UNMANNED AIRCRAFT SYTEM (SUAS) OPERATIONS IN CLASS D AIRSPACE AT KMHV. ^PRIVACY DATA OMITTED^ HOLDS A CURRENT REMOTE PILOT CERTIFICATE WITH A SUAS RATING ^PRIVACY DATA OMITTED^. REMOTE PILOT IN COMMAND (RPIC), ^PRIVACY DATA OMITTED^ WAS OPERATING UNDER PART 107 AT KMHV COVERING SURVEILLANCE OF THE VIRGIN ORBIT LAUNCHER ONE MISSION. RPIC WAS OPERATING A DJI INSPIRE 2 WITH A CAMERA/GIMBLE COMBINATION SET UP. DJI INSPIRE 2 (SN 09YDDCQL040384) CURRENT FAA SUAS REGISTRATION NUMBER FA343FTPWM. REGISTERED TO ^PRIVACY DATA OMITTED^. RPIC WAS OPERATING WITH ONE INEXPERIENCED VISUAL OBSERVER (VO). RPIC WAS NOT ACCUSTOMED TO OPERATING THE SMALL UNMANNED AIRCRAFT CONTROLS, MANIPULATING THE CAMERA/GIMBLE COMBINATION SET UP, AND COMMUNICATING TO ATCT VIA RADIO SIMULTANEOUSLY. RPIC WAS ALSO WORKING WITH AN INEXPERIENCED VO. RPIC BECAME TASK SATURATED AND LOST SIGHT OF THE SMALL UNMANNED AIRCRAFT. AT 1208 LOCAL TIME, THE SMALL UNMANNED AIRCRAFT STRUCK THE WEST SIDE OF KMHV ATCT. ^PRIVACY DATA OMITTED^ SUSTAINED A SUPERFICIAL HORIZONTAL LACERATION TO HIS RIGHT LOWER, INSIDE FOREARM. HE WAS TREATED ON-SCENE WITH BANDAGE AND GAUZE WRAP.\n",
        "# 2 - USED RENTED DJI INSPIRE 2 DRONE.\n",
        "# UAS PILOT ^PRIVACY DATA OMITTED^ REMOTE CERTIFICATE #^PRIVACY DATA OMITTED^ WAS HIRED BY PRODUCER ^PRIVACY DATA OMITTED^ TO DO SOME AERIAL SHOTS OF EL MORRO FOR A DOCUMENTARY ABOUT THE 500 YEARS OF THE CITY OF SAN JUAN ON SEPTEMBER 3RD. USED RENTED DJI INSPIRE 2 DRONE. LOST CONTROL LINK WITH DRONE ON WAY BACK CRASHED INTO EL MORRO FORT IN OLD SAN JUAN.\n",
        "# 3 - AIRCRAFT IS A DJI T650A INSPIRE 2 SUAS, SERIAL # 0A0LG2J107005, REGISTRATION # FA3FTYCLFE.\n",
        "# AIRCRAFT IS A DJI T650A INSPIRE 2 SUAS, SERIAL # 0A0LG2J107005, REGISTRATION # FA3FTYCLFE. FREQUENCY USED IS UNKNOWN. THE AIRCRAFT HAS TWO FREQUENCIES AVAILABLE, 2.4 AND 5.8 GHZ, BUT THE PIC DOESN'T REMEMBER WHICH ONE WAS IN USE DURING THE FLIGHT. PIC IS ^PRIVACY DATA OMITTED^, CERTIFICATE ^PRIVACY DATA OMITTED^. ^PRIVACY DATA OMITTED^ SAID THAT THE UAS EXPERIENCED AN ERROR ON ITS FIRST CALIBRATION ATTEMPT PRIOR TO LAUNCH BUT CALIBRATED CORRECTLY ON THE SECOND ATTEMPT AND THE FLIGHT CONTINUED AFTER RECORDING THE HOME POINT AT THE LAUNCH POSITION. HE SAID THE UAS WAS IN POSITIONING MODE (P-MODE) FOR THE ENTIRE FLIGHT. THE LANDING SEQUENCE WAS INITIATED MANUALLY (I.E. THE AUTOLAND FEATURE WAS NOT USED). ^PRIVACY DATA OMITTED^ SAID THAT THE UAS \"TOOK OFF\" WHEN IT GOT DOWN TO ABOUT 5' AGL AND FLEW INSIDE THE CPD HANGAR WHERE IT STRUCK A CPD HELICOPTER. HE SAID THAT THE UAS ACTED AS IF IT WAS \"PRE-PROGRAMMED\" TO FLY INTO THE HANGAR ONCE IT GOT AWAY FROM HIM.\n",
        "\n",
        "# ВАШ КОД:\n",
        "\n",
        "for j, drone_cls in enumerate(result):\n",
        "    drone = drone_cls.get_model()\n",
        "    drone = drone[4:].lower()\n",
        "    if len(drone_cls.incidents) > 0:\n",
        "        print(f'{drone}: инцидентов - {len(drone_cls.incidents)}')\n",
        "        for i, drones in enumerate(drone_cls.incidents):\n",
        "            tmp = drones.split('.')\n",
        "            s = ''\n",
        "            for iter in tmp:\n",
        "                if drone.upper() in iter:\n",
        "                    s += iter\n",
        "            print(f'{i + 1} - {s}')\n",
        "            print(drones.split('\\n')[0])\n",
        "    else:\n",
        "        print(f'{drone}: инцидентов - {len(drone_cls.incidents)}')"
      ],
      "metadata": {
        "colab": {
          "base_uri": "https://localhost:8080/"
        },
        "id": "oMobcC7pPOQX",
        "outputId": "12a4d1ce-e661-47fa-e455-d52e7be0d206"
      },
      "execution_count": 143,
      "outputs": [
        {
          "output_type": "stream",
          "name": "stdout",
          "text": [
            "mavic 2 pro: инцидентов - 0\n",
            "mavic 2 zoom: инцидентов - 1\n",
            "1 - ON JULY 15, 2020 AT 1050 EDT, A DJI, MAVIC 2 ZOOM L1Z UAS, SERIAL # 0M6TG85R0A04ZP, UA FA REGISTRATION # FA3RE7RNWP, REGISTERED TO ^PRIVACY DATA OMITTED^ (PIC), REMOTE PILOT CERTIFICATE ^PRIVACY DATA OMITTED^, LOST CONTROLLED FLIGHT IN THE AREA OF ^PRIVACY DATA OMITTED^ AND HIT A BLACK NISSAN PICKUP TRUCK BEARING ^PRIVACY DATA OMITTED^ TRAVELING ALONG TAMIAMI TRAIL IN NORTH PORT CAUSING PROPERTY DAMAGE\n",
            "ON JULY 15, 2020 AT 1050 EDT, A DJI, MAVIC 2 ZOOM L1Z UAS, SERIAL # 0M6TG85R0A04ZP, UA FA REGISTRATION # FA3RE7RNWP, REGISTERED TO ^PRIVACY DATA OMITTED^ (PIC), REMOTE PILOT CERTIFICATE ^PRIVACY DATA OMITTED^, LOST CONTROLLED FLIGHT IN THE AREA OF ^PRIVACY DATA OMITTED^ AND HIT A BLACK NISSAN PICKUP TRUCK BEARING ^PRIVACY DATA OMITTED^ TRAVELING ALONG TAMIAMI TRAIL IN NORTH PORT CAUSING PROPERTY DAMAGE. THE UAS WAS FLOWN ON A RECREATIONAL FLIGHT OVER A CONSTRUCTION SITE AT ^PRIVACY DATA OMITTED^, USING AN AUTOMATIC FREQUENCY SELECTION FEATURE THAT RANGED FROM 2.400 - 2.4835 GHZ; 5.725 - 5.850 GHZ. WEATHER CONDITIONS WERE CLEAR AND ARE NOT CONSIDERED A FACTOR. THE UAS WAS DESTROYED AND THE PROPERTY DAMAGE WAS GREATER THAN $500. THERE WERE NO PERSONAL INJURIES. THE FLIGHT ORIGINATED FROM ^PRIVACY DATA OMITTED^, EARLIER THAT DAY. WHILE THIS INCIDENT MEETS FAA UAS ACCIDENT CRITERIA, IT DOES NOT MEET THE NTSB?S UAS ACCIDENT CRITERIA. THE NTSB WOULD NOT ISSUE A NTSB ACCIDENT NUMBER FOR THIS EVENT. THEREFORE, THIS EVENT WILL BE CLASSIFIED AN INCIDENT.\n",
            "mavic 2 enterprise advanced: инцидентов - 0\n",
            "inspire 2: инцидентов - 3\n",
            "1 -  RPIC WAS OPERATING A DJI INSPIRE 2 WITH A CAMERA/GIMBLE COMBINATION SET UP DJI INSPIRE 2 (SN 09YDDCQL040384) CURRENT FAA SUAS REGISTRATION NUMBER FA343FTPWM\n",
            "ON MAY 25, 2020, MOJAVE AIR AND SPACE PORT (KMHV) AIR TRAFFIC CONTROL TOWER (ATCT) PROVIDED VERBAL AUTHORIZATION TO ^PRIVACY DATA OMITTED^ TO PERFORM SUAS OPERATIONS IN KMHV CLASS D AIRSPACE. WIND SPEED WAS 7 KNOTS WITH GUSTS AT 14 KNOTS. WIND DIRECTION 060. ^PRIVACY DATA OMITTED^. AND KMHV HAVE A LETTER OF AGREEMENT (LOA) EFFECTIVE JANUARY 28, 2020 FOR SUAS OPERATIONS IN KMHV CLASS D AIRSPACE. ^PRIVACY DATA OMITTED^ HOLDS A CURRENT CERTIFICATE OF WAIVER OR AUTHORIZATION EFFECTIVE FROM JANUARY 31, 2019 TO SEPTEMBER 30, 2020 TO PERFORM SMALL UNMANNED AIRCRAFT SYTEM (SUAS) OPERATIONS IN CLASS D AIRSPACE AT KMHV. ^PRIVACY DATA OMITTED^ HOLDS A CURRENT REMOTE PILOT CERTIFICATE WITH A SUAS RATING ^PRIVACY DATA OMITTED^. REMOTE PILOT IN COMMAND (RPIC), ^PRIVACY DATA OMITTED^ WAS OPERATING UNDER PART 107 AT KMHV COVERING SURVEILLANCE OF THE VIRGIN ORBIT LAUNCHER ONE MISSION. RPIC WAS OPERATING A DJI INSPIRE 2 WITH A CAMERA/GIMBLE COMBINATION SET UP. DJI INSPIRE 2 (SN 09YDDCQL040384) CURRENT FAA SUAS REGISTRATION NUMBER FA343FTPWM. REGISTERED TO ^PRIVACY DATA OMITTED^. RPIC WAS OPERATING WITH ONE INEXPERIENCED VISUAL OBSERVER (VO). RPIC WAS NOT ACCUSTOMED TO OPERATING THE SMALL UNMANNED AIRCRAFT CONTROLS, MANIPULATING THE CAMERA/GIMBLE COMBINATION SET UP, AND COMMUNICATING TO ATCT VIA RADIO SIMULTANEOUSLY. RPIC WAS ALSO WORKING WITH AN INEXPERIENCED VO. RPIC BECAME TASK SATURATED AND LOST SIGHT OF THE SMALL UNMANNED AIRCRAFT. AT 1208 LOCAL TIME, THE SMALL UNMANNED AIRCRAFT STRUCK THE WEST SIDE OF KMHV ATCT. ^PRIVACY DATA OMITTED^ SUSTAINED A SUPERFICIAL HORIZONTAL LACERATION TO HIS RIGHT LOWER, INSIDE FOREARM. HE WAS TREATED ON-SCENE WITH BANDAGE AND GAUZE WRAP.\n",
            "2 -  USED RENTED DJI INSPIRE 2 DRONE\n",
            "UAS PILOT ^PRIVACY DATA OMITTED^ REMOTE CERTIFICATE #^PRIVACY DATA OMITTED^ WAS HIRED BY PRODUCER ^PRIVACY DATA OMITTED^ TO DO SOME AERIAL SHOTS OF EL MORRO FOR A DOCUMENTARY ABOUT THE 500 YEARS OF THE CITY OF SAN JUAN ON SEPTEMBER 3RD. USED RENTED DJI INSPIRE 2 DRONE. LOST CONTROL LINK WITH DRONE ON WAY BACK CRASHED INTO EL MORRO FORT IN OLD SAN JUAN.\n",
            "3 - AIRCRAFT IS A DJI T650A INSPIRE 2 SUAS, SERIAL # 0A0LG2J107005, REGISTRATION # FA3FTYCLFE\n",
            "AIRCRAFT IS A DJI T650A INSPIRE 2 SUAS, SERIAL # 0A0LG2J107005, REGISTRATION # FA3FTYCLFE. FREQUENCY USED IS UNKNOWN. THE AIRCRAFT HAS TWO FREQUENCIES AVAILABLE, 2.4 AND 5.8 GHZ, BUT THE PIC DOESN'T REMEMBER WHICH ONE WAS IN USE DURING THE FLIGHT. PIC IS ^PRIVACY DATA OMITTED^, CERTIFICATE ^PRIVACY DATA OMITTED^. ^PRIVACY DATA OMITTED^ SAID THAT THE UAS EXPERIENCED AN ERROR ON ITS FIRST CALIBRATION ATTEMPT PRIOR TO LAUNCH BUT CALIBRATED CORRECTLY ON THE SECOND ATTEMPT AND THE FLIGHT CONTINUED AFTER RECORDING THE HOME POINT AT THE LAUNCH POSITION. HE SAID THE UAS WAS IN POSITIONING MODE (P-MODE) FOR THE ENTIRE FLIGHT. THE LANDING SEQUENCE WAS INITIATED MANUALLY (I.E. THE AUTOLAND FEATURE WAS NOT USED). ^PRIVACY DATA OMITTED^ SAID THAT THE UAS \n",
            "mavic 3: инцидентов - 0\n"
          ]
        }
      ]
    },
    {
      "cell_type": "code",
      "source": [
        "# TODO 4-2 - После вывода информации об инциденте сохраните всю информацию о дроне в файл .json при помощи метода save_data\n",
        "# ВАШ КОД:\n",
        "for res in result:\n",
        "    res.save_data()\n",
        "\n",
        "# РЕЗУЛЬТАТ:\n",
        "# см. приложенные файлы в папке samples"
      ],
      "metadata": {
        "id": "NgXlCvUvPRl8"
      },
      "execution_count": 144,
      "outputs": []
    },
    {
      "cell_type": "code",
      "source": [],
      "metadata": {
        "id": "Frskn7NdBHBP"
      },
      "execution_count": null,
      "outputs": []
    }
  ]
}