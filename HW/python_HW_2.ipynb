{
  "nbformat": 4,
  "nbformat_minor": 0,
  "metadata": {
    "colab": {
      "provenance": []
    },
    "kernelspec": {
      "name": "python3",
      "display_name": "Python 3"
    },
    "language_info": {
      "name": "python"
    }
  },
  "cells": [
    {
      "cell_type": "code",
      "source": [
        "!git clone https://github.com/Shorstko/mai_python_2022"
      ],
      "metadata": {
        "colab": {
          "base_uri": "https://localhost:8080/"
        },
        "id": "bpjA_8Qk8_o8",
        "outputId": "603742b7-9f87-46d3-b9b0-eed2ad6290d0"
      },
      "execution_count": 1,
      "outputs": [
        {
          "output_type": "stream",
          "name": "stdout",
          "text": [
            "Cloning into 'mai_python_2022'...\n",
            "remote: Enumerating objects: 94, done.\u001b[K\n",
            "remote: Counting objects: 100% (38/38), done.\u001b[K\n",
            "remote: Compressing objects: 100% (25/25), done.\u001b[K\n",
            "remote: Total 94 (delta 19), reused 26 (delta 12), pack-reused 56\u001b[K\n",
            "Unpacking objects: 100% (94/94), done.\n"
          ]
        }
      ]
    },
    {
      "cell_type": "code",
      "source": [
        "# %cd mai_python_2022/Homework\n",
        "%ls"
      ],
      "metadata": {
        "colab": {
          "base_uri": "https://localhost:8080/"
        },
        "id": "bJnWatfi9JL8",
        "outputId": "022b7e21-f95c-4b94-e991-34b0b8d76523"
      },
      "execution_count": 5,
      "outputs": [
        {
          "output_type": "stream",
          "name": "stdout",
          "text": [
            "faa_incidents.csv  hw_01.py  hw_02.py  hw_03.py  pilot_path.json  \u001b[0m\u001b[01;34msamples\u001b[0m/\n"
          ]
        }
      ]
    },
    {
      "cell_type": "code",
      "execution_count": 6,
      "metadata": {
        "id": "qv5eFUZiW-EU"
      },
      "outputs": [],
      "source": [
        "# Напоминание: вам понадобится материал лекций:\n",
        "# 3 - Списки и кортежи\n",
        "# 4 - Словари и множества\n",
        "# 7 и 8 - Классы\n",
        "# 9 - Работа с файлами\n",
        "\n",
        "# =====================================\n",
        "# ЗАДАНИЕ 1: Работа с файлами\n",
        "# =====================================\n",
        "# TODO 1-1\n",
        "#  Прочитайте данные из файла pilot_path.json (лекция 9)\n",
        "\n",
        "# ВАШ КОД:\n",
        "import json\n",
        "from pprint import pprint\n",
        "\n",
        "with open(\"/content/mai_python_2022/Homework/pilot_path.json\") as f:\n",
        "\tjson_data = json.load(f)\n",
        "# pprint(json_data)\n",
        "# json_data"
      ]
    },
    {
      "cell_type": "code",
      "source": [
        "# =====================================\n",
        "# ЗАДАНИЕ 2: Расчет статистик\n",
        "# =====================================\n",
        "# TODO 2-1) Подсчитайте, сколько миссий налетал каждый пилот. Выведите результат в порядке убывания миссий\n",
        "# ИНФОРМАЦИЯ:\n",
        "# структура данных в файле: {\"имя_пилота\": \"список_миссий\":[миссия1, ...]]\n",
        "# структура одной миссии: {\"drone\":\"модель_дрона\", \"mission\":[список точек миссии]}\n",
        "# у пилотов неодинаковое количество миссий (и миссии могут быть разной длины). у каждой миссии - произвольная модель дрона\n",
        "\n",
        "# РЕЗУЛЬТАТ:\n",
        "# Пилоты в порядке убывания количества миссий: {'pilot3': 6, 'pilot8': 6, 'pilot6': 5, 'pilot2': 5, 'pilot7': 4, 'pilot9': 3, 'pilot5': 3, 'pilot4': 2, 'pilot1': 1}\n",
        "\n",
        "# ВАШ КОД:\n",
        "...\n",
        "\n",
        "pilot_mission_dict = {}\n",
        "\n",
        "for pilot in json_data:\n",
        "    pilot_mission_dict[pilot] = len(json_data[pilot]['missions'])\n",
        "# print(pilot_mission_dict)\n",
        "# подсказка: готовый код нужной вам сортировки есть здесь (Sample Solution-1:): https://www.w3resource.com/python-exercises/dictionary/python-data-type-dictionary-exercise-1.php\n",
        "print(f\"Пилоты в порядке убывания количества миссий: {dict(sorted(pilot_mission_dict.items(), key=lambda item: item[1], reverse=True))}\")\n",
        "\n"
      ],
      "metadata": {
        "colab": {
          "base_uri": "https://localhost:8080/"
        },
        "id": "OiaGtLMCY4ag",
        "outputId": "f38c5a82-9cdf-4389-9fec-0ba8d25abd13"
      },
      "execution_count": 7,
      "outputs": [
        {
          "output_type": "stream",
          "name": "stdout",
          "text": [
            "Пилоты в порядке убывания количества миссий: {'pilot3': 6, 'pilot8': 6, 'pilot6': 5, 'pilot2': 5, 'pilot7': 4, 'pilot9': 3, 'pilot5': 3, 'pilot4': 2, 'pilot1': 1}\n"
          ]
        }
      ]
    },
    {
      "cell_type": "code",
      "source": [
        "# TODO 2-2) Получите и выведите список всех моделей дронов, которые были в файле pilot_path.json\n",
        "# Подсказка: внутри print используйте str.join(), чтобы соединить элементы списка (множества)\n",
        "\n",
        "# РЕЗУЛЬТАТ:\n",
        "# Полеты совершались на дронах следующих моделей: DJI Mavic 2 Pro, DJI Mavic 3, DJI Inspire 2, DJI Mavic 2 Zoom, DJI Mavic 2 Enterprise Advanced\n",
        "\n",
        "# ВАШ КОД:\n",
        "\n",
        "result = list()\n",
        "\n",
        "for pilot in json_data:\n",
        "    for i in range(len(json_data[pilot]['missions'])):\n",
        "        if json_data[pilot]['missions'][i]['drone'] not in result:\n",
        "            result.append(json_data[pilot]['missions'][i]['drone'])\n",
        "\n",
        "print(len(result))\n",
        "\n",
        "\n",
        "# вывод результата (допишите код)\n",
        "print(f'Полеты совершались на дронах следующих моделей: {\", \".join(result)}')\n",
        "\n"
      ],
      "metadata": {
        "colab": {
          "base_uri": "https://localhost:8080/"
        },
        "id": "NSuL73lAZAgz",
        "outputId": "86ef7c74-fc7f-4d45-9a05-d6c5b0794e89"
      },
      "execution_count": 8,
      "outputs": [
        {
          "output_type": "stream",
          "name": "stdout",
          "text": [
            "5\n",
            "Полеты совершались на дронах следующих моделей: DJI Inspire 2, DJI Mavic 2 Pro, DJI Mavic 2 Enterprise Advanced, DJI Mavic 3, DJI Mavic 2 Zoom\n"
          ]
        }
      ]
    },
    {
      "cell_type": "code",
      "source": [
        "# TODO 2-3) Получите список миссий для каждой модели дронов, которые были в файле pilot_path.json,\n",
        "# и выведите на экран модель дрона и количество миссий, которые он отлетал\n",
        "\n",
        "# РЕЗУЛЬТАТ:\n",
        "# Дрон DJI Inspire 2 отлетал 6 миссий\n",
        "# Дрон DJI Mavic 2 Pro отлетал 6 миссий\n",
        "# Дрон DJI Mavic 2 Enterprise Advanced отлетал 10 миссий\n",
        "# Дрон DJI Mavic 3 отлетал 4 миссий\n",
        "# Дрон DJI Mavic 2 Zoom отлетал 9 миссий\n",
        "\n",
        "# ВАШ КОД:\n",
        "\n",
        "count_miss = {}\n",
        "\n",
        "for i in result:\n",
        "    count_miss[i] = 0\n",
        "\n",
        "for pilot in json_data:\n",
        "    for i in range(len(json_data[pilot]['missions'])):\n",
        "        count_miss[json_data[pilot]['missions'][i]['drone']] += 1\n",
        "\n",
        "# вывод результата (допишите код)\n",
        "for i in count_miss:\n",
        "    print(f'Дрон {i} отлетал {count_miss[i]} миссий')\n",
        "\n"
      ],
      "metadata": {
        "colab": {
          "base_uri": "https://localhost:8080/"
        },
        "id": "ykivB7cJZD8b",
        "outputId": "09e1fd70-f4d0-47ab-ba1b-f4a406b876f9"
      },
      "execution_count": 9,
      "outputs": [
        {
          "output_type": "stream",
          "name": "stdout",
          "text": [
            "Дрон DJI Inspire 2 отлетал 6 миссий\n",
            "Дрон DJI Mavic 2 Pro отлетал 6 миссий\n",
            "Дрон DJI Mavic 2 Enterprise Advanced отлетал 10 миссий\n",
            "Дрон DJI Mavic 3 отлетал 4 миссий\n",
            "Дрон DJI Mavic 2 Zoom отлетал 9 миссий\n"
          ]
        }
      ]
    },
    {
      "cell_type": "code",
      "source": [
        "a = list([list()])\n",
        "a"
      ],
      "metadata": {
        "colab": {
          "base_uri": "https://localhost:8080/"
        },
        "id": "Nxpo07vTKpOo",
        "outputId": "862b4168-c5dc-4f71-897b-683e91d6ff57"
      },
      "execution_count": 10,
      "outputs": [
        {
          "output_type": "execute_result",
          "data": {
            "text/plain": [
              "[[]]"
            ]
          },
          "metadata": {},
          "execution_count": 10
        }
      ]
    },
    {
      "cell_type": "code",
      "source": [
        "# =====================================\n",
        "# ЗАДАНИЕ 3: Создание классов\n",
        "# =====================================\n",
        "# Для вас уже написаны заготовки классов Aircraft и UAV\n",
        "# TODO 3-1) Добавьте в класс UAV защищенный атрибут _=_missions (тип - список списков [[], []]), куда вы будете сохранять все миссии, которые отлетал беспилотник\n",
        "# TODO 3-2) При помощи декоратора @property сделайте возможность чтения и записи миссий в этот атрибут (лекция 8)\n",
        "# TODO 3-3) Создайте в классе UAV публичный метод count_missions, который возвращает количество миссий (лекция 7)\n",
        "# TODO 3-4) Создайте класс MultirotorUAV - наследник классов Aircraft и UAV (лекция 7)\n",
        "\n",
        "# ВАШ КОД (дополните то, что нужно в классах):\n",
        "\n",
        "class Aircraft:\n",
        "\tdef __init__(self, weight):\n",
        "\t\tself._weight = weight\n",
        "\n",
        "class UAV:\n",
        "\tdef __init__(self):\n",
        "\t\tself._has_autopilot = True\n",
        "\t\tself.__missions: list([list()])\n",
        "\n",
        "\t# напишите код для декоратора атрибута _missions\n",
        "\t\n",
        "\t@property\n",
        "\tdef get_miss(self):\n",
        "\t\treturn self.__missions\n",
        "\n",
        "\t@get_miss.setter\n",
        "\tdef add_miss(self, mission):\n",
        "\t\tself.__missions = mission\n",
        " \n",
        "\t# напишите публичный метод count_missions\n",
        "\tdef count_missions(self):\n",
        "\t\treturn len(self.missions)\n",
        "\n",
        "class MultirotorUAV(Aircraft, UAV):\n",
        "\tdef __init__(self, weight, model, brand):\n",
        "\t\tsuper().__init__(weight)\n",
        "\t\tUAV.__init__(self)\n",
        "\t\tself.__weight = weight\n",
        "\t\tself.__model = model\n",
        "\t\tself.__brand = brand\n",
        "\n",
        "\t# напишите публичный метод get_info\n",
        "\tdef get_info(self):\n",
        "\t\tprint(f'масса: {self.__weight}, производитель: {self.__brand}, количество миссий: {self.count_missions()}')#\n",
        "\n",
        "\t# напишите публичный метод get_model\n",
        "\tdef get_model(self):\n",
        "\t\treturn self.__model"
      ],
      "metadata": {
        "id": "CTJoiVNzZHHC"
      },
      "execution_count": 66,
      "outputs": []
    },
    {
      "cell_type": "code",
      "source": [
        "# =====================================\n",
        "# ЗАДАНИЕ 4: Работа с экземплярами классов\n",
        "# =====================================\n",
        "# TODO 4-1) Создайте экземпляры класса MultirotorUAV для всех моделей дронов, которые были в файле pilot_path.json\n",
        "# Подсказка: созданные экземпляры класса MultirotorUAV сохраните в список для последующего использования\n",
        "# TODO 4-2) При создании каждого экземпляра задайте ему как приватные атрибуты массу и производителя из справочника дронов drone_catalog в соответствии с моделью дрона\n",
        "# TODO 4-3) А также добавьте ему миссии, найденные для этой модели дрона на шаге 2-3\n",
        "# Напоминание: миссии находятся в атрибуте missions (с декоратором, и поэтому он публично доступен) в классе UAV\n",
        "\n",
        "# каталог дронов уже готов для вас:\n",
        "drone_catalog = {\n",
        "\t\"DJI Mavic 2 Pro\": {\"weight\":903, \"brand\":\"DJI\"},\n",
        "\t\"DJI Mavic 2 Zoom\": {\"weight\":900, \"brand\":\"DJI\"},\n",
        "\t\"DJI Mavic 2 Enterprise Advanced\": {\"weight\":920, \"brand\":\"DJI\"},\n",
        "\t\"DJI Inspire 2\": {\"weight\":1500, \"brand\":\"DJI\"},\n",
        "\t\"DJI Mavic 3\": {\"weight\":1000, \"brand\":\"DJI\"}\n",
        "}\n",
        "\n",
        "# ВАШ КОД:\n",
        "\n",
        "result = list()\n",
        "\n",
        "for i, dron in enumerate(drone_catalog):\n",
        "\tresult.append(MultirotorUAV(drone_catalog[dron]['weight'], dron, drone_catalog[dron]['brand']))\n",
        "\ttmp = list()\n",
        "\tfor pilot in json_data:\n",
        "\t\tfor j in json_data[pilot]['missions']:\n",
        "\t\t\t# print(j)\n",
        "\t\t\tif j['drone'] == dron:\n",
        "\t\t\t\ttmp.append(j['mission'])\n",
        "\t# print(tmp)\n",
        "\t# print(len(tmp))\n",
        "\tresult[i].missions = tmp"
      ],
      "metadata": {
        "id": "x-Y__QmqZK4_"
      },
      "execution_count": 67,
      "outputs": []
    },
    {
      "cell_type": "code",
      "source": [
        "# TODO 4-4\n",
        "# Напишите код, который выводит информацию по заданной модели дрона. Состав информации: масса, производитель, количество отлетанных миссий\n",
        "# (название модели пользователь вводит с клавиатуры в любом регистре, но без опечаток)\n",
        "# Подсказка: для этого вам необходимо вернуться в ЗАДАНИЕ 3 и добавить в класс два публичных метода: get_info(), который выводит нужную информацию,\n",
        "# и get_model, который позволит получить название модели дрона\n",
        "\n",
        "# РЕЗУЛЬТАТ:\n",
        "# Информация о дроне DJI Mavic 2 Pro: масса 903, производитель DJI, количество миссий 6\n",
        "\n",
        "# ВАШ КОД:\n",
        "user_unput = input(\"Введите модель дрона (полностью) в любом регистре\\n\")\n",
        "\n",
        "for i in result:\n",
        "    # print(i)\n",
        "    if user_unput.lower() == i.get_model().lower():\n",
        "        i.get_info()"
      ],
      "metadata": {
        "colab": {
          "base_uri": "https://localhost:8080/"
        },
        "id": "mkk9PriLZN4b",
        "outputId": "4341d748-3ea4-4873-f1a9-d6c61dfd8743"
      },
      "execution_count": 68,
      "outputs": [
        {
          "output_type": "stream",
          "name": "stdout",
          "text": [
            "Введите модель дрона (полностью) в любом регистре\n",
            "DJI Mavic 2 Pro\n",
            "масса: 903, производитель: DJI, количество миссий: 6\n"
          ]
        }
      ]
    },
    {
      "cell_type": "code",
      "source": [],
      "metadata": {
        "id": "8KhCEONaXGhG"
      },
      "execution_count": 64,
      "outputs": []
    }
  ]
}